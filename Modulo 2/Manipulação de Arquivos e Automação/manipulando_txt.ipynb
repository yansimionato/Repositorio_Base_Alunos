{
 "cells": [
  {
   "cell_type": "markdown",
   "id": "3973df76",
   "metadata": {},
   "source": [
    "# Lendo um txt\n",
    "\n",
    "Em Python, usamos a função open() para abrir arquivos"
   ]
  },
  {
   "cell_type": "code",
   "execution_count": 1,
   "id": "99549001",
   "metadata": {},
   "outputs": [
    {
     "name": "stdout",
     "output_type": "stream",
     "text": [
      "<_io.TextIOWrapper name='hello_world.txt' mode='r' encoding='cp1252'>\n"
     ]
    }
   ],
   "source": [
    "arquivo = open('hello_world.txt', 'r')\n",
    "print(arquivo)"
   ]
  },
  {
   "cell_type": "markdown",
   "id": "f974f175",
   "metadata": {},
   "source": [
    "Os modos são:\n",
    "- r - leitura(read)\n",
    "- w - escrita(write, sobrescreve)\n",
    "- a - escrita(append, adiciona ao final)\n",
    "- x - escrita(cria um novo arquivo, erro se já existir)\n",
    "- b - modo binário\n",
    "- t - modo texto(padrão)\n"
   ]
  },
  {
   "cell_type": "markdown",
   "id": "bb5310de",
   "metadata": {},
   "source": [
    "# Lendo um arquivo linha por linha"
   ]
  },
  {
   "cell_type": "code",
   "execution_count": 2,
   "id": "f66d2f64",
   "metadata": {},
   "outputs": [
    {
     "name": "stdout",
     "output_type": "stream",
     "text": [
      "Lendo o arquivo 'Hello World'\n"
     ]
    }
   ],
   "source": [
    "with open('hello_world.txt', 'r') as f:\n",
    "    for linha in f:\n",
    "        print(linha)"
   ]
  },
  {
   "cell_type": "markdown",
   "id": "ffb004d5",
   "metadata": {},
   "source": [
    "O objeto _io.TextIOWrapper é a classe que representa arquivos abertos em modo texto em Python. Sempre que você abre um arquivo usando open() com o modo como r, w, a (ou seja, sem modo binário, b), o que você recebe é uma instância de _io.TextIOWrapper"
   ]
  },
  {
   "cell_type": "code",
   "execution_count": 3,
   "id": "f85a8630",
   "metadata": {},
   "outputs": [
    {
     "data": {
      "text/plain": [
       "_io.TextIOWrapper"
      ]
     },
     "execution_count": 3,
     "metadata": {},
     "output_type": "execute_result"
    }
   ],
   "source": [
    "type(arquivo)"
   ]
  }
 ],
 "metadata": {
  "kernelspec": {
   "display_name": "Python 3",
   "language": "python",
   "name": "python3"
  },
  "language_info": {
   "codemirror_mode": {
    "name": "ipython",
    "version": 3
   },
   "file_extension": ".py",
   "mimetype": "text/x-python",
   "name": "python",
   "nbconvert_exporter": "python",
   "pygments_lexer": "ipython3",
   "version": "3.13.2"
  }
 },
 "nbformat": 4,
 "nbformat_minor": 5
}
