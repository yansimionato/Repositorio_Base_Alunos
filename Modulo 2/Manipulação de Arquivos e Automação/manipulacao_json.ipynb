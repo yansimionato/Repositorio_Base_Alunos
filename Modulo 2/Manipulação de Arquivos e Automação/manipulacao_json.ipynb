{
 "cells": [
  {
   "cell_type": "markdown",
   "id": "0770e438",
   "metadata": {},
   "source": [
    "# JSON"
   ]
  },
  {
   "cell_type": "markdown",
   "id": "dacc820b",
   "metadata": {},
   "source": [
    "O JSON é um formato que armazena informações na forma de código-fonte JavaScript em arquivo com formato de texto simples. (Json é a abreviatura de JavaScript Object Notation, ou Notação de Objetos JavaScript). Não é necessário conhecer a linguagem de programação JavaScript para usar arquivos JSON, porém é útil conhecer esse formato, pois o JSON é usado em diversar aplicações web.\n",
    "\n",
    "Ele pode conter valores somente dos seguintes tipos de dados:\n",
    "- strings\n",
    "- inteiros\n",
    "- ponto flutuantes (floot)\n",
    "- booleanos\n",
    "- listas\n",
    "- dicionários\n",
    "- NoneType (vazio)"
   ]
  },
  {
   "cell_type": "code",
   "execution_count": 1,
   "id": "4eff02f1",
   "metadata": {},
   "outputs": [],
   "source": [
    "import json"
   ]
  },
  {
   "cell_type": "markdown",
   "id": "9e9ebcbb",
   "metadata": {},
   "source": [
    "# 1. Criando um arquivo JSON do zero"
   ]
  },
  {
   "cell_type": "code",
   "execution_count": 2,
   "id": "7de5d44b",
   "metadata": {},
   "outputs": [],
   "source": [
    "# Dicionário Python\n",
    "dados = {\n",
    "    'nome':'Maria',\n",
    "    'idade': 30,\n",
    "    'cursos':['Python', 'Machine Learning']\n",
    "}\n",
    "\n",
    "with open('dados.json', 'w', encoding='utf-8') as arquivo:\n",
    "    json.dump(dados, arquivo, indent=4, ensure_ascii=False)\n",
    "\n",
    "# json.dump() = converte um objeto Python em Json e escreve diretamente em um arquivo\n",
    "# ensure_ascii= False preserva os acentos e caracteres especiais"
   ]
  },
  {
   "cell_type": "markdown",
   "id": "3a2f2e75",
   "metadata": {},
   "source": [
    "# 2. Lendo um arquivo JSON"
   ]
  },
  {
   "cell_type": "code",
   "execution_count": 5,
   "id": "46dac8b2",
   "metadata": {},
   "outputs": [
    {
     "name": "stdout",
     "output_type": "stream",
     "text": [
      "{'nome': 'Maria', 'idade': 30, 'cursos': ['Python', 'Machine Learning']}\n",
      "<class 'dict'>\n"
     ]
    }
   ],
   "source": [
    "with open('dados.json', 'r',encoding='utf-8') as arquivo:\n",
    "    dados = json.load(arquivo)\n",
    "print(dados)\n",
    "print(type(dados))\n",
    "\n",
    "# json.load() converte o arquivo json para dicionário"
   ]
  },
  {
   "cell_type": "markdown",
   "id": "d8b7acc3",
   "metadata": {},
   "source": [
    "# 3. Convertendo um objeto em uma string JSON"
   ]
  },
  {
   "cell_type": "code",
   "execution_count": 6,
   "id": "ab5eadf2",
   "metadata": {},
   "outputs": [
    {
     "name": "stdout",
     "output_type": "stream",
     "text": [
      "{\n",
      "  \"nome\": \"João\",\n",
      "  \"idade\": 35,\n",
      "  \"ativo\": true\n",
      "}\n",
      "<class 'str'>\n"
     ]
    }
   ],
   "source": [
    "# Dicionário Python\n",
    "dados = {\n",
    "    'nome':'João',\n",
    "    'idade': 35,\n",
    "    'ativo': True\n",
    "}\n",
    "\n",
    "json_str = json.dumps(dados, indent=2, ensure_ascii=False)\n",
    "print(json_str)\n",
    "print(type(json_str))\n",
    "\n",
    "# json.dumps() = converte um objeto Python em uma string no formato JSON"
   ]
  }
 ],
 "metadata": {
  "kernelspec": {
   "display_name": "Python 3",
   "language": "python",
   "name": "python3"
  },
  "language_info": {
   "codemirror_mode": {
    "name": "ipython",
    "version": 3
   },
   "file_extension": ".py",
   "mimetype": "text/x-python",
   "name": "python",
   "nbconvert_exporter": "python",
   "pygments_lexer": "ipython3",
   "version": "3.13.2"
  }
 },
 "nbformat": 4,
 "nbformat_minor": 5
}
