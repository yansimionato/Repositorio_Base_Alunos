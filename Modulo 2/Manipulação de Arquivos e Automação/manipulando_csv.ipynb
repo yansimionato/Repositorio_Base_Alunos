{
 "cells": [
  {
   "cell_type": "markdown",
   "id": "e433f2db",
   "metadata": {},
   "source": [
    "# CSV"
   ]
  },
  {
   "cell_type": "markdown",
   "id": "0f5edaa7",
   "metadata": {},
   "source": [
    "CSV (Comma-Separaated Values) é um formato de arquivo de texto simples usado para armazenar dados em formato de tabela, onde:\n",
    "- cada linha representa um registro\n",
    "- cada coluna é separada por vírgulas(ou outro delimitador)\n",
    "- Pode ser aberto por Excel, GoogleSheets, pandas etc\n",
    "\n",
    "Exemplo de conteúdo de um alunos.csv:\n",
    "nome, idade, curso\n",
    "Maria, 30, Python\n",
    "João, 25, Data Science\n",
    "\n",
    "O módulo csv permite ler e escrever arquivos CSV facilmente. Ele oferece duas formas principais:\n",
    "- usando listas como csv.reader() e csv.writer()\n",
    "- usando dicionários com csv.DicReader() e csv.DicWriter()"
   ]
  },
  {
   "cell_type": "code",
   "execution_count": 10,
   "id": "2dc9fecb",
   "metadata": {},
   "outputs": [],
   "source": [
    "import csv"
   ]
  },
  {
   "cell_type": "markdown",
   "id": "9f426c23",
   "metadata": {},
   "source": [
    "# 1. Criar um csv com csv.write()"
   ]
  },
  {
   "cell_type": "code",
   "execution_count": 11,
   "id": "963fe672",
   "metadata": {},
   "outputs": [],
   "source": [
    "# 1. Criar um csv com o csv.write()\n",
    "dados = [\n",
    "    ['nome', 'idade', 'curso'],\n",
    "    ['Maria', 30, 'Python'],\n",
    "    ['João', 25, 'Data Science']\n",
    "]\n",
    "\n",
    "# Abrir o arquivo em modo escrita ('w'), com encoding e newline='ArithmeticError'\n",
    "with open('alunos.csv', 'w', newline='',encoding='utf-8') as arquivo:\n",
    "    # criamos um objeto 'write' que é o escritor de um arquivo csv.\n",
    "    # Ele é responsável por transformar listas em linhas no arquivo csv\n",
    "    escritor = csv.writer(arquivo)\n",
    "    # Escrever todas as linhas de lista 'dados' de uma vez, .writerows é um método do objeto escritor\n",
    "    escritor.writerows(dados)\n"
   ]
  },
  {
   "cell_type": "markdown",
   "id": "38426e69",
   "metadata": {},
   "source": [
    "Observação dobre o uso de newline = \"Sempre use newline\" =  ao abrir o arquivo com open() para evitar quebras de linha duplicadas, principalmente no Windows"
   ]
  },
  {
   "cell_type": "markdown",
   "id": "a194a871",
   "metadata": {},
   "source": [
    "# 2. Ler um CSV com csv.reader()"
   ]
  },
  {
   "cell_type": "code",
   "execution_count": 12,
   "id": "aa6b9017",
   "metadata": {},
   "outputs": [
    {
     "name": "stdout",
     "output_type": "stream",
     "text": [
      "['nome', 'idade', 'curso']\n",
      "['Maria', '30', 'Python']\n",
      "['João', '25', 'Data Science']\n"
     ]
    }
   ],
   "source": [
    "# Abrimos o arquivo em modo leitura('r'), com endoding\n",
    "with open('alunos.csv', 'r', encoding='utf-8') as arquivo:\n",
    "    # o reader cria um objeto iteravél que transforma cada linha do CSV em uma linha.\n",
    "    leitor = csv.reader(arquivo)\n",
    "\n",
    "    for linha in leitor:\n",
    "        print(linha)"
   ]
  },
  {
   "cell_type": "markdown",
   "id": "cb13017e",
   "metadata": {},
   "source": [
    "# 3. Lendo como dicionário com csv.DictReader()"
   ]
  },
  {
   "cell_type": "code",
   "execution_count": 13,
   "id": "1a51acb1",
   "metadata": {},
   "outputs": [
    {
     "name": "stdout",
     "output_type": "stream",
     "text": [
      "{'nome': 'Maria', 'idade': '30', 'curso': 'Python'}\n",
      "{'nome': 'João', 'idade': '25', 'curso': 'Data Science'}\n"
     ]
    }
   ],
   "source": [
    "# Abrimos o arquivo em modo leitura('r'), com endoding\n",
    "with open('alunos.csv', 'r', encoding='utf-8') as arquivo:\n",
    "    # o reader cria um objeto iteravél que transforma cada linha do CSV em uma linha.\n",
    "    leitor = csv.DictReader(arquivo)\n",
    "\n",
    "    for linha in leitor:\n",
    "        print(linha)"
   ]
  },
  {
   "cell_type": "markdown",
   "id": "bf4da487",
   "metadata": {},
   "source": [
    "# 4. Adicionando uma linha ao csv"
   ]
  },
  {
   "cell_type": "code",
   "execution_count": 15,
   "id": "40c6c45c",
   "metadata": {},
   "outputs": [],
   "source": [
    "nova_linha = ['Fernando', 27, 'Banco de Dados']\n",
    "\n",
    "with open('alunos.csv', 'a', newline='',encoding='utf-8') as arquivo:\n",
    "    escritor = csv.writer(arquivo)\n",
    "    escritor.writerow(nova_linha)\n",
    "    "
   ]
  },
  {
   "cell_type": "markdown",
   "id": "1b22ea90",
   "metadata": {},
   "source": [
    "## Importante !\n",
    "\n",
    "Os modos de gravação ('w') e ('a') são diferentes.\n",
    "- ('w') write - cria o arquivo se não existir. Se o arquivo existir, ele substitui TODA a informação presente nele pela nova.\n",
    "- ('a') APPEND - Não cria o arquivo. Apenas adiciona uma nova informação no fim, mantendo as informações."
   ]
  }
 ],
 "metadata": {
  "kernelspec": {
   "display_name": "Python 3",
   "language": "python",
   "name": "python3"
  },
  "language_info": {
   "codemirror_mode": {
    "name": "ipython",
    "version": 3
   },
   "file_extension": ".py",
   "mimetype": "text/x-python",
   "name": "python",
   "nbconvert_exporter": "python",
   "pygments_lexer": "ipython3",
   "version": "3.13.2"
  }
 },
 "nbformat": 4,
 "nbformat_minor": 5
}
